{
 "cells": [
  {
   "cell_type": "code",
   "execution_count": 8,
   "id": "4acd551f",
   "metadata": {},
   "outputs": [],
   "source": [
    "# !pip install imutils\n",
    "import os # help to load different path\n",
    "import cv2\n",
    "import numpy as np\n",
    "from imutils import paths"
   ]
  },
  {
   "cell_type": "code",
   "execution_count": 9,
   "id": "d1f48334",
   "metadata": {},
   "outputs": [],
   "source": [
    "# from sklearn.preprocessing import lableBinarizer\n",
    "from sklearn.preprocessing import LabelBinarizer\n"
   ]
  },
  {
   "cell_type": "code",
   "execution_count": 10,
   "id": "544a7127",
   "metadata": {},
   "outputs": [],
   "source": [
    "datapath =r\"C:\\Rajat\\COLLEGE\\Semester 7\\Hyperverge\\football_openCV\\data\"\n",
    "output_model = r\"C:\\Rajat\\COLLEGE\\Semester 7\\Hyperverge\\football_openCV\\model\\videoclassificationmodel\"\n",
    "outputlabelbinarize =\"C:\\Rajat\\COLLEGE\\Semester 7\\Hyperverge\\football_openCV\\model\\videoclassificationbinarizer\""
   ]
  },
  {
   "cell_type": "code",
   "execution_count": 13,
   "id": "e52db366",
   "metadata": {},
   "outputs": [
    {
     "name": "stdout",
     "output_type": "stream",
     "text": [
      "Images is being loaded....\n"
     ]
    }
   ],
   "source": [
    "Sports_labels = set(['boxing','swimming','table_tennis'])\n",
    "print(\"Images is being loaded....\")\n",
    "pathToImages = list(paths.list_images(datapath))\n",
    "data =[]\n",
    "labels =[]\n",
    "\n",
    "\n",
    "for images in pathToImages:\n",
    "    label= images.split(os.path.sep)[-2]\n",
    "    if label not in Sports_labels:\n",
    "        continue\n",
    "    image = cv2.imread(images)\n",
    "    image = cv2.cvtColor(image,cv2.COLOR_BGR2RGB)\n",
    "    image = cv2.resize(image,(244,244))\n",
    "    data.append(image)\n",
    "    labels.append(label)"
   ]
  },
  {
   "cell_type": "code",
   "execution_count": null,
   "id": "631e3e10",
   "metadata": {},
   "outputs": [],
   "source": []
  }
 ],
 "metadata": {
  "kernelspec": {
   "display_name": "Python 3 (ipykernel)",
   "language": "python",
   "name": "python3"
  },
  "language_info": {
   "codemirror_mode": {
    "name": "ipython",
    "version": 3
   },
   "file_extension": ".py",
   "mimetype": "text/x-python",
   "name": "python",
   "nbconvert_exporter": "python",
   "pygments_lexer": "ipython3",
   "version": "3.11.5"
  }
 },
 "nbformat": 4,
 "nbformat_minor": 5
}
