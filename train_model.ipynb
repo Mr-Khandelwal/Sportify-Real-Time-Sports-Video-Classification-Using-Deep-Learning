{
 "cells": [
  {
   "cell_type": "code",
   "execution_count": 16,
   "metadata": {},
   "outputs": [],
   "source": [
    "## Importing library\n",
    "import os\n",
    "import cv2\n",
    "import numpy as np\n",
    "from imutils import paths\n",
    "from sklearn.preprocessing import LabelBinarizer\n",
    "from sklearn.model_selection import train_test_split\n",
    "from keras.preprocessing.image import ImageDataGenerator\n",
    "from tensorflow.keras.applications import ResNet50\n",
    "from tensorflow.keras.layers import Input, AveragePooling2D, Flatten, Dense, Dropout\n",
    "from tensorflow.keras.models import Model\n",
    "from tensorflow.keras.optimizers import SGD\n",
    "from tensorflow.keras.callbacks import LearningRateScheduler\n",
    "import pickle"
   ]
  },
  {
   "cell_type": "code",
   "execution_count": null,
   "metadata": {},
   "outputs": [],
   "source": [
    "# Set up paths and parameters\n",
    "datapath = r\"C:\\Rajat\\COLLEGE\\Semester 7\\Hyperverge\\football_openCV\\data\"\n",
    "output_model = r\"C:\\Rajat\\COLLEGE\\Semester 7\\Hyperverge\\football_openCV\\model\\videoclassificationmodel\"\n",
    "outputlabelbinarize = r\"C:\\Rajat\\COLLEGE\\Semester 7\\Hyperverge\\football_openCV\\model\\videoclassificationbinarizer\"\n",
    "epoch = 25\n",
    "Sports_labels = set(['boxing', 'swimming', 'table_tennis'])"
   ]
  },
  {
   "cell_type": "code",
   "execution_count": null,
   "metadata": {},
   "outputs": [],
   "source": [
    "# Load images\n",
    "print(\"Loading images...\")\n",
    "pathToImages = list(paths.list_images(datapath))\n",
    "data = []\n",
    "labels = []\n",
    "\n",
    "for images in pathToImages:\n",
    "    label = images.split(os.path.sep)[-2]\n",
    "    if label not in Sports_labels:\n",
    "        continue\n",
    "    image = cv2.imread(images)\n",
    "    image = cv2.cvtColor(image, cv2.COLOR_BGR2RGB)\n",
    "    image = cv2.resize(image, (244, 244))\n",
    "    data.append(image)\n",
    "    labels.append(label)\n",
    "\n",
    "data = np.array(data)\n",
    "labels = np.array(labels)\n"
   ]
  },
  {
   "cell_type": "code",
   "execution_count": null,
   "metadata": {},
   "outputs": [],
   "source": [
    "# One-hot encode the labels\n",
    "lb = LabelBinarizer()\n",
    "labels = lb.fit_transform(labels)"
   ]
  },
  {
   "cell_type": "code",
   "execution_count": null,
   "metadata": {},
   "outputs": [],
   "source": [
    "# Split the data into training and testing sets\n",
    "(X_train, X_test, Y_train, Y_test) = train_test_split(data, labels, test_size=0.25, stratify=labels, random_state=42)\n"
   ]
  },
  {
   "cell_type": "code",
   "execution_count": null,
   "metadata": {},
   "outputs": [],
   "source": [
    "# Data augmentation\n",
    "trainingAugmentation = ImageDataGenerator(\n",
    "    rotation_range=30,\n",
    "    zoom_range=0.15,\n",
    "    width_shift_range=0.2,\n",
    "    height_shift_range=0.2,\n",
    "    shear_range=0.15,\n",
    "    horizontal_flip=True,\n",
    "    fill_mode=\"nearest\"\n",
    ")\n",
    "validationAugmentation = ImageDataGenerator()\n",
    "\n",
    "mean = np.array([123.68, 116.779, 103.939], dtype=\"float32\")\n",
    "trainingAugmentation.mean = mean\n",
    "validationAugmentation.mean = mean\n"
   ]
  },
  {
   "cell_type": "code",
   "execution_count": null,
   "metadata": {},
   "outputs": [],
   "source": [
    "\n",
    "# Build the model\n",
    "baseModel = ResNet50(weights=\"imagenet\", include_top=False, input_tensor=Input(shape=(224, 244, 3)))\n",
    "headModel = baseModel.output\n",
    "headModel = AveragePooling2D(pool_size=(7, 7))(headModel)\n",
    "headModel = Flatten(name=\"flatten\")(headModel)\n",
    "headModel = Dense(512, activation=\"relu\")(headModel)\n",
    "headModel = Dropout(0.5)(headModel)\n",
    "headModel = Dense(len(lb.classes_), activation=\"softmax\")(headModel)\n",
    "model = Model(inputs=baseModel.input, outputs=headModel)"
   ]
  },
  {
   "cell_type": "code",
   "execution_count": null,
   "metadata": {},
   "outputs": [],
   "source": [
    "# Freeze the base layers\n",
    "for layer in baseModel.layers:\n",
    "    layer.trainable = False"
   ]
  },
  {
   "cell_type": "code",
   "execution_count": null,
   "metadata": {},
   "outputs": [],
   "source": [
    "# Compile the model with the new optimizer format\n",
    "opt = SGD(learning_rate=0.0001, momentum=0.9)\n",
    "model.compile(loss=\"categorical_crossentropy\", optimizer=opt, metrics=[\"accuracy\"])"
   ]
  },
  {
   "cell_type": "code",
   "execution_count": null,
   "metadata": {},
   "outputs": [],
   "source": [
    "# Learning rate scheduler\n",
    "def lr_schedule(epoch, lr):\n",
    "    decay_rate = 0.0001 / (epoch + 1)\n",
    "    return lr * decay_rate\n",
    "\n",
    "lr_scheduler = LearningRateScheduler(lr_schedule)"
   ]
  },
  {
   "cell_type": "code",
   "execution_count": 2,
   "metadata": {},
   "outputs": [
    {
     "name": "stdout",
     "output_type": "stream",
     "text": [
      "Loading images...\n",
      "Epoch 1/25\n",
      "49/49 [==============================] - 135s 3s/step - loss: 1.6260 - accuracy: 0.3429 - val_loss: 1.2546 - val_accuracy: 0.3594 - lr: 1.0000e-08\n",
      "Epoch 2/25\n",
      "49/49 [==============================] - 125s 3s/step - loss: 1.6567 - accuracy: 0.3338 - val_loss: 1.2546 - val_accuracy: 0.3633 - lr: 5.0000e-13\n",
      "Epoch 3/25\n",
      "49/49 [==============================] - 129s 3s/step - loss: 1.6909 - accuracy: 0.3364 - val_loss: 1.2462 - val_accuracy: 0.3652 - lr: 1.6667e-17\n",
      "Epoch 4/25\n",
      "49/49 [==============================] - 128s 3s/step - loss: 1.6664 - accuracy: 0.3380 - val_loss: 1.2453 - val_accuracy: 0.3672 - lr: 4.1667e-22\n",
      "Epoch 5/25\n",
      "49/49 [==============================] - 134s 3s/step - loss: 1.6968 - accuracy: 0.3208 - val_loss: 1.2536 - val_accuracy: 0.3613 - lr: 8.3333e-27\n",
      "Epoch 6/25\n",
      "49/49 [==============================] - 127s 3s/step - loss: 1.6538 - accuracy: 0.3507 - val_loss: 1.2508 - val_accuracy: 0.3633 - lr: 1.3889e-31\n",
      "Epoch 7/25\n",
      "49/49 [==============================] - 125s 3s/step - loss: 1.6656 - accuracy: 0.3448 - val_loss: 1.2554 - val_accuracy: 0.3613 - lr: 1.9841e-36\n",
      "Epoch 8/25\n",
      "49/49 [==============================] - 126s 3s/step - loss: 1.7086 - accuracy: 0.3318 - val_loss: 1.2541 - val_accuracy: 0.3574 - lr: 2.4802e-41\n",
      "Epoch 9/25\n",
      "49/49 [==============================] - 128s 3s/step - loss: 1.6576 - accuracy: 0.3422 - val_loss: 1.2534 - val_accuracy: 0.3594 - lr: 0.0000e+00\n",
      "Epoch 10/25\n",
      "49/49 [==============================] - 125s 3s/step - loss: 1.7289 - accuracy: 0.3253 - val_loss: 1.2520 - val_accuracy: 0.3672 - lr: 0.0000e+00\n",
      "Epoch 11/25\n",
      "49/49 [==============================] - 127s 3s/step - loss: 1.7002 - accuracy: 0.3279 - val_loss: 1.2532 - val_accuracy: 0.3633 - lr: 0.0000e+00\n",
      "Epoch 12/25\n",
      "49/49 [==============================] - 125s 3s/step - loss: 1.7359 - accuracy: 0.3227 - val_loss: 1.2484 - val_accuracy: 0.3613 - lr: 0.0000e+00\n",
      "Epoch 13/25\n",
      "49/49 [==============================] - 124s 3s/step - loss: 1.6097 - accuracy: 0.3552 - val_loss: 1.2429 - val_accuracy: 0.3652 - lr: 0.0000e+00\n",
      "Epoch 14/25\n",
      "49/49 [==============================] - 127s 3s/step - loss: 1.6594 - accuracy: 0.3377 - val_loss: 1.2496 - val_accuracy: 0.3633 - lr: 0.0000e+00\n",
      "Epoch 15/25\n",
      "49/49 [==============================] - 123s 3s/step - loss: 1.6652 - accuracy: 0.3344 - val_loss: 1.2569 - val_accuracy: 0.3633 - lr: 0.0000e+00\n",
      "Epoch 16/25\n",
      "49/49 [==============================] - 125s 3s/step - loss: 1.7147 - accuracy: 0.3136 - val_loss: 1.2583 - val_accuracy: 0.3613 - lr: 0.0000e+00\n",
      "Epoch 17/25\n",
      "49/49 [==============================] - 123s 3s/step - loss: 1.6725 - accuracy: 0.3273 - val_loss: 1.2558 - val_accuracy: 0.3594 - lr: 0.0000e+00\n",
      "Epoch 18/25\n",
      "49/49 [==============================] - 119s 2s/step - loss: 1.6414 - accuracy: 0.3390 - val_loss: 1.2463 - val_accuracy: 0.3672 - lr: 0.0000e+00\n",
      "Epoch 19/25\n",
      "49/49 [==============================] - 114s 2s/step - loss: 1.6251 - accuracy: 0.3396 - val_loss: 1.2538 - val_accuracy: 0.3613 - lr: 0.0000e+00\n",
      "Epoch 20/25\n",
      "49/49 [==============================] - 116s 2s/step - loss: 1.6628 - accuracy: 0.3435 - val_loss: 1.2515 - val_accuracy: 0.3613 - lr: 0.0000e+00\n",
      "Epoch 21/25\n",
      "49/49 [==============================] - 116s 2s/step - loss: 1.6321 - accuracy: 0.3442 - val_loss: 1.2516 - val_accuracy: 0.3594 - lr: 0.0000e+00\n",
      "Epoch 22/25\n",
      "49/49 [==============================] - 117s 2s/step - loss: 1.6785 - accuracy: 0.3422 - val_loss: 1.2517 - val_accuracy: 0.3633 - lr: 0.0000e+00\n",
      "Epoch 23/25\n",
      "49/49 [==============================] - 117s 2s/step - loss: 1.6567 - accuracy: 0.3450 - val_loss: 1.2436 - val_accuracy: 0.3672 - lr: 0.0000e+00\n",
      "Epoch 24/25\n",
      "49/49 [==============================] - 116s 2s/step - loss: 1.6522 - accuracy: 0.3422 - val_loss: 1.2602 - val_accuracy: 0.3574 - lr: 0.0000e+00\n",
      "Epoch 25/25\n",
      "49/49 [==============================] - 116s 2s/step - loss: 1.6878 - accuracy: 0.3377 - val_loss: 1.2486 - val_accuracy: 0.3691 - lr: 0.0000e+00\n",
      "INFO:tensorflow:Assets written to: C:\\Rajat\\COLLEGE\\Semester 7\\Hyperverge\\football_openCV\\model\\videoclassificationmodel\\assets\n"
     ]
    },
    {
     "name": "stderr",
     "output_type": "stream",
     "text": [
      "INFO:tensorflow:Assets written to: C:\\Rajat\\COLLEGE\\Semester 7\\Hyperverge\\football_openCV\\model\\videoclassificationmodel\\assets\n"
     ]
    }
   ],
   "source": [
    "\n",
    "# Train the model\n",
    "History = model.fit(\n",
    "    trainingAugmentation.flow(X_train, Y_train, batch_size=32),\n",
    "    steps_per_epoch=len(X_train) // 32,\n",
    "    validation_data=validationAugmentation.flow(X_test, Y_test),\n",
    "    validation_steps=len(X_test) // 32,\n",
    "    epochs=epoch,\n",
    "    callbacks=[lr_scheduler]\n",
    ")\n",
    "\n",
    "# Save the model and label binarizer\n",
    "model.save(output_model)\n",
    "with open(outputlabelbinarize, \"wb\") as lbinarizer:\n",
    "    pickle.dump(lb, lbinarizer)\n"
   ]
  },
  {
   "cell_type": "code",
   "execution_count": null,
   "metadata": {},
   "outputs": [],
   "source": []
  },
  {
   "cell_type": "code",
   "execution_count": null,
   "metadata": {},
   "outputs": [],
   "source": []
  }
 ],
 "metadata": {
  "kernelspec": {
   "display_name": "venv",
   "language": "python",
   "name": "python3"
  },
  "language_info": {
   "codemirror_mode": {
    "name": "ipython",
    "version": 3
   },
   "file_extension": ".py",
   "mimetype": "text/x-python",
   "name": "python",
   "nbconvert_exporter": "python",
   "pygments_lexer": "ipython3",
   "version": "3.12.0"
  },
  "orig_nbformat": 4,
  "vscode": {
   "interpreter": {
    "hash": "49575ace60b32313fe0597143d0e5dd40305eac044b7262fad3390da53c4efc6"
   }
  }
 },
 "nbformat": 4,
 "nbformat_minor": 2
}
